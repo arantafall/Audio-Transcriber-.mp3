{
  "nbformat": 4,
  "nbformat_minor": 0,
  "metadata": {
    "colab": {
      "provenance": []
    },
    "kernelspec": {
      "name": "python3",
      "display_name": "Python 3"
    },
    "language_info": {
      "name": "python"
    }
  },
  "cells": [
    {
      "cell_type": "markdown",
      "source": [
        "en los apartados donde pone audio/audio2.mp3, substituir por la carpeta que hayas creado y el nombre del archibo de audio que haya dentro"
      ],
      "metadata": {
        "id": "h6R5LdDvGwsy"
      }
    },
    {
      "cell_type": "code",
      "execution_count": 7,
      "metadata": {
        "colab": {
          "base_uri": "https://localhost:8080/"
        },
        "id": "zUCzhug5PRro",
        "outputId": "bf9d0597-9f6a-4416-b64c-453fa6e221e2"
      },
      "outputs": [
        {
          "output_type": "stream",
          "name": "stdout",
          "text": [
            "Requirement already satisfied: SpeechRecognition in /usr/local/lib/python3.10/dist-packages (3.13.0)\n",
            "Requirement already satisfied: pydub in /usr/local/lib/python3.10/dist-packages (0.25.1)\n",
            "Requirement already satisfied: typing-extensions in /usr/local/lib/python3.10/dist-packages (from SpeechRecognition) (4.12.2)\n",
            "Requirement already satisfied: fpdf in /usr/local/lib/python3.10/dist-packages (1.7.2)\n"
          ]
        }
      ],
      "source": [
        "!pip install SpeechRecognition pydub\n",
        "!pip install fpdf\n",
        "from fpdf import FPDF\n",
        "from pydub import AudioSegment\n",
        "from pydub.utils import which\n",
        "import speech_recognition as sr\n",
        "import os\n",
        "import re"
      ]
    },
    {
      "cell_type": "code",
      "source": [
        "audio_path = \"audio.mp3\""
      ],
      "metadata": {
        "id": "TuyzRxj7QyTi"
      },
      "execution_count": 8,
      "outputs": []
    },
    {
      "cell_type": "code",
      "source": [
        "AudioSegment.converter = which(\"ffmpeg\")\n",
        "\n",
        "# Ruta del archivo de audio (cámbiala por la tuya)\n",
        "audio_path = \"audio/Audio2.mp3\"\n",
        "\n",
        "audio_wav = \"audio_temp.wav\"\n",
        "AudioSegment.from_file(audio_path).export(audio_wav, format=\"wav\")"
      ],
      "metadata": {
        "colab": {
          "base_uri": "https://localhost:8080/"
        },
        "id": "UOxflg6sQPUp",
        "outputId": "63bf7de2-7bc2-4231-a910-f00e5b3357b6"
      },
      "execution_count": 9,
      "outputs": [
        {
          "output_type": "execute_result",
          "data": {
            "text/plain": [
              "<_io.BufferedRandom name='audio_temp.wav'>"
            ]
          },
          "metadata": {},
          "execution_count": 9
        }
      ]
    },
    {
      "cell_type": "code",
      "source": [
        "# (cámbiala por la tuya)\n",
        "audio_path = \"audio/Audio2.mp3\"\n",
        "\n",
        "\n",
        "audio_wav = \"audio_temp.wav\"\n",
        "AudioSegment.from_file(audio_path).export(audio_wav, format=\"wav\")\n",
        "\n",
        "\n",
        "recognizer = sr.Recognizer()\n",
        "\n",
        "\n",
        "with sr.AudioFile(audio_wav) as source:\n",
        "    print(\"Cargando el audio...\")\n",
        "    audio_data = recognizer.record(source)\n",
        "\n",
        "try:\n",
        "    transcription = recognizer.recognize_google(audio_data, language=\"es-ES\")\n",
        "    print(\"Transcripción:\")\n",
        "    print(transcription)\n",
        "except sr.UnknownValueError:\n",
        "    print(\"No se pudo entender el audio.\")\n",
        "except sr.RequestError as e:\n",
        "    print(f\"Error del servicio de reconocimiento: {e}\")\n"
      ],
      "metadata": {
        "colab": {
          "base_uri": "https://localhost:8080/"
        },
        "id": "hyEYfAl3PXgh",
        "outputId": "440b80cd-cc8e-4892-a419-2ca504177900"
      },
      "execution_count": 10,
      "outputs": [
        {
          "output_type": "stream",
          "name": "stdout",
          "text": [
            "Cargando el audio...\n",
            "Error del servicio de reconocimiento: recognition connection failed: [Errno 32] Broken pipe\n"
          ]
        }
      ]
    },
    {
      "cell_type": "code",
      "source": [
        "output_folder = \"segmentos\"\n",
        "if not os.path.exists(output_folder):\n",
        "    os.makedirs(output_folder)\n",
        "\n",
        "audio = AudioSegment.from_file(\"audio_temp.wav\")\n",
        "\n",
        "segment_duration = 60 * 1000\n",
        "for i, segment in enumerate(audio[::segment_duration]):\n",
        "    segment_path = os.path.join(output_folder, f\"segment_{i}.wav\")\n",
        "    segment.export(segment_path, format=\"wav\")\n",
        "    print(f\"Segmento {i} exportado a: {segment_path}\")"
      ],
      "metadata": {
        "colab": {
          "base_uri": "https://localhost:8080/"
        },
        "id": "LngXGFW7F2-3",
        "outputId": "1072b6c9-b8be-422a-fced-94489a78239d"
      },
      "execution_count": 11,
      "outputs": [
        {
          "output_type": "stream",
          "name": "stdout",
          "text": [
            "Segmento 0 exportado a: segmentos/segment_0.wav\n",
            "Segmento 1 exportado a: segmentos/segment_1.wav\n",
            "Segmento 2 exportado a: segmentos/segment_2.wav\n",
            "Segmento 3 exportado a: segmentos/segment_3.wav\n",
            "Segmento 4 exportado a: segmentos/segment_4.wav\n",
            "Segmento 5 exportado a: segmentos/segment_5.wav\n",
            "Segmento 6 exportado a: segmentos/segment_6.wav\n",
            "Segmento 7 exportado a: segmentos/segment_7.wav\n",
            "Segmento 8 exportado a: segmentos/segment_8.wav\n",
            "Segmento 9 exportado a: segmentos/segment_9.wav\n",
            "Segmento 10 exportado a: segmentos/segment_10.wav\n",
            "Segmento 11 exportado a: segmentos/segment_11.wav\n",
            "Segmento 12 exportado a: segmentos/segment_12.wav\n",
            "Segmento 13 exportado a: segmentos/segment_13.wav\n"
          ]
        }
      ]
    },
    {
      "cell_type": "code",
      "source": [
        "audio_directory = \"segmentos\"\n",
        "audio_files = [file for file in os.listdir(audio_directory) if file.endswith(\".wav\")]\n",
        "\n",
        "\n",
        "def sort_key(file_name):\n",
        "    match = re.search(r\"segment_(\\d+)\", file_name)\n",
        "    return int(match.group(1)) if match else float('inf')\n",
        "\n",
        "audio_files = sorted(audio_files, key=sort_key)\n",
        "\n",
        "print(\"Archivos de audio ordenados:\", audio_files)\n",
        "\n",
        "texto_completo = \"\"\n",
        "\n",
        "for audio_file in audio_files:\n",
        "    audio_path = os.path.join(audio_directory, audio_file)\n",
        "    print(f\"Procesando: {audio_file}\")\n",
        "\n",
        "    try:\n",
        "        with sr.AudioFile(audio_path) as source:\n",
        "            audio_data = recognizer.record(source)\n",
        "            transcription = recognizer.recognize_google(audio_data, language=\"es-ES\")\n",
        "            print(f\"Transcripción de {audio_file}: {transcription}\\n\")\n",
        "            texto_completo += transcription + \" \"\n",
        "    except sr.UnknownValueError:\n",
        "        print(f\"No se pudo entender el audio: {audio_file}\")\n",
        "        texto_completo += \"[No se pudo entender este fragmento.] \"\n",
        "    except sr.RequestError as e:\n",
        "        print(f\"Error del servicio de reconocimiento: {e}\")\n",
        "        texto_completo += f\"[Error del servicio: {e}] \"\n",
        "\n",
        "output_file = \"transcripcion_final.txt\"\n",
        "with open(output_file, \"w\", encoding=\"utf-8\") as file:\n",
        "    file.write(texto_completo)\n",
        "print(f\"Transcripción guardada en {output_file}\")"
      ],
      "metadata": {
        "colab": {
          "base_uri": "https://localhost:8080/"
        },
        "id": "NsxykwmZDq7_",
        "outputId": "2c3a8660-01ad-4fba-eb3b-06484c778cc4"
      },
      "execution_count": 12,
      "outputs": [
        {
          "output_type": "stream",
          "name": "stdout",
          "text": [
            "Archivos de audio ordenados: ['segment_0.wav', 'segment_1.wav', 'segment_2.wav', 'segment_3.wav', 'segment_4.wav', 'segment_5.wav', 'segment_6.wav', 'segment_7.wav', 'segment_8.wav', 'segment_9.wav', 'segment_10.wav', 'segment_11.wav', 'segment_12.wav', 'segment_13.wav']\n",
            "Procesando: segment_0.wav\n",
            "Transcripción de segment_0.wav: una comunicación entre Cali y Windows vale Si no tenemos la red Nat porque podemos tener varias redes más montadas para nuestros equipos por ejemplo en casa por wi-fi no es lo mismo que cuando lo hago por cable os habéis dado cuenta que cuando voy por cable me entregan $122 168.2 y tal en cambio por wi-fi me da otro otro Rango pero normalmente empiezan por 10 entonces podéis tener varias redes Nat sí se entiende la idea Este es el primer problema porque si no no llegaré a destino y no podré analizar y podré ver lo que pasa en la máquina objetivo que en este caso la máquina objetivo estaría preparada dentro de lo que es Cali de acuerdo Entonces qué he hecho primer paso cómo configuro la red\n",
            "\n",
            "Procesando: segment_1.wav\n",
            "Transcripción de segment_1.wav: nosotros desde esta opción primero os explico el paso de cómo seríais no aquí en Cali tenéis que olvidaros un poco de la idea de Cali porque quién es el que manda en las comunicaciones virtualbox es la que nos permite varias configuraciones os habéis dado cuenta que desde virtualbox que nos vamos a red y nos dice cosas vale Por ejemplo yo me puedo ir a esta herramienta le digo a partir de aquí que yo quiero crear redes sociales que es la que voy a crear vale Esa es la primera que tengo que hacer para qué para que los dos equipos puedan conectarse a la misma red si la red ya sale significa que funciona y con qué parámetros son muy sencillos los parámetros el secreto es el prefijo que le vamos a dar lo veis esto se crea antes de abril esto lo tienes que hacer\n",
            "\n",
            "Procesando: segment_2.wav\n",
            "Transcripción de segment_2.wav: luego veremos Cuál es el proceso si las otras cosas están en marcha No pasa nada pero si lo configuras hay que reiniciarlo todo entonces hay que tener en cuenta que tal Y tenemos la idea clara que siempre va por el mismo sitio os acordáis 10.0.25 eso es lo que nos da Cali Si lo queremos cambiar podríamos hacerlo eh pero vamos a centrarnos con eso y luego ya si queremos trastear en las comunicaciones ya lo veremos vale Entonces nosotros vamos a crear una red que tenga este segmento de acuerdo cuando lo creamos que sea el 0/24 para que para que me coja toda la subred le puedo entregar cualquier número por ejemplo ahora eh nuestro Windows el que yo os he entregado cuando monto esta red me entrega el 10.0.24 normalmente cuando lo tengáis en casa los los predefinidos están Y si aún tenéis problemas podéis hacer la última virgueria que se acostumbra a hacer que es me voy a me voy a la tarjeta de red y le digo que era una IP fijada en este segmento y punto y seguro que\n",
            "\n",
            "Procesando: segment_3.wav\n",
            "Transcripción de segment_3.wav: Mira por qué Porque forman parte de la misma red sí os acordáis que lo estuvimos comentando Esto es lo más complejo de todo eh Porque si en esto ya no podéis metals no podéis hacer nada Por qué Porque estamos montando nuestro laboratorio esto es la parte más compleja entonces ya tengo la idea clara que tengo este elemento por supuesto habilitar el dhcp sí siempre ha de estar habilitado por qué Porque si no no nos entregaría y lo último la clase que la clase siempre es tipo c 255 en la que os he puesto aquí los 552552556 y está será la que tendremos de configurar en cada una de las máquinas que deseemos ver si se va entendiendo primero montamos tres elementos y cómo lo he hecho mirar qué sencillo es yo tengo aquí a las dos máquinas abiertas vale si estoy en Cali aquí yo me he ido a la configuración en Cali\n",
            "\n",
            "Procesando: segment_4.wav\n",
            "Transcripción de segment_4.wav: vale vale Y cuando le digo red ves que la he bautizado con otro nombre red Network de Cali cuando estéis en casa le podéis poner red Network casa con el 192 qué haríamos lo mismo 192 168.144% o de ubicaciones o la podéis hacer en el momento puntual cuando os conectes vayas a una empresa qué segmento ifconfig pues tiene la 122 110 110 puntos pues haríamos ese segmento para poder formar parte de la red Nosotros sí se entiende la idea Sí pero yo cuando voy a herramientas\n",
            "\n",
            "Procesando: segment_5.wav\n",
            "Transcripción de segment_5.wav: directamente algo no me aparece lo que está apareciendo todo depende la versión anterior el nombre del sistema operativo carpeta de 2018 Solo tienes una opción vamos para allá herramientas herramientas chicos bien tener en cuenta que ahora os lo explico y luego os tendréis que pelear para entenderlo y que veáis que funciona en este ejemplo Vale entonces yo en esta red ahora tengo dos máquinas que están corriendo no sé si os dais cuenta Mirad Mirad Cómo os lo explico luego ya traste pero no preguntéis sin hacerlo bien\n",
            "\n",
            "Procesando: segment_6.wav\n",
            "Transcripción de segment_6.wav: las máquinas están corriendo chicos entonces Cali tiene que tener una IP y Windows otra pero dentro del mismo segmento sí o no bien cómo lo hago me voy a la máquina de Cali tengo aquí otra pantalla y si a este le pongo un gift config que me va a entregar la 10.0.1 O sea Está correcto y ahora me voy a la máquina de Windows de Windows sí Me tengo que ir a buscarla vale la tengo aquí ahora enviaré aquí dice que cuando me lo enseñé\n",
            "\n",
            "Procesando: segment_7.wav\n",
            "Transcripción de segment_7.wav: cuando me lo quieren enseñar 10.02 € y ya está ya se ven sí se ha visto Qué sencillito es por qué Porque lo único que hemos hecho es decirle que los dos van a formar parte me voy a ir a tal y decir Oye qué red tengo montada Aquí sí me voy de nuevo a Cali Me voy a esta misma consola le digo os acordáis del sudo arp-scan localmente\n",
            "\n",
            "Procesando: segment_8.wav\n",
            "Transcripción de segment_8.wav: porque no lo encontró si lo tenía antes por el local de guión guión localmente pero no lo he puesto bien no se supone que no te lo reconoce sí lo estoy escribiendo mal cómo van a meter parezco todo el mundo local Ahora sí debería dármelo el golfo que me acaba de encontrar las direcciones IP disponibles no vale venga que puede ser esto sección fondo qué es esto uno se salga de la de Windows que han estado en la red que están y no son las macs\n",
            "\n",
            "Procesando: segment_9.wav\n",
            "Transcripción de segment_9.wav: Es que no me gusta mira aquí chatona Perdona es la ip porque ahora Windows tiene la cuatro y a mal sudo espacio en blanco arp-scan espacio en blanco guion guión local neta y dice todos los servidores que tengo para tener acceso Esta es la prueba de que ya podemos atacar a esas máquinas y analizar a esas máquinas o sea el siguiente paso después de hacer todo esto lo que hemos puesto el sudo espacio en blanco arp-scan espacio en blanco guión guión local net sí lo vemos de esta manera lo que hemos hecho es decirle al sistema que hay tantas Y por último lo que voy a hacer Pues voy a ver si hay alguna vulnerabilidad en algún Puerto Sí qué voy a hacer Tenemos la 15 que es la nuestra de Cali A cuál tenemos de atacar a la cuatro por qué Porque está de Windows Entonces qué le voy a hacer pues va a ser tan sencillo Cómo decirle\n",
            "\n",
            "Procesando: segment_10.wav\n",
            "Transcripción de segment_10.wav: Bueno pues la neta 672 qué le voy a decir vale Ahí lo tengo le voy a decir n más que quiero saber bueno primero con mayúscula Verdad que sí y luego le quiero decir quiero que me analices todos los puertos Aunque tarde es un rato A cuál 10.0.24 y en alguno de los casos a partir de aquí sí Ahora me daría adentro y no nos\n",
            "\n",
            "Procesando: segment_11.wav\n",
            "Transcripción de segment_11.wav: Ah va a tardar un montón pero nos va a decir cuáles son los puertos vulnerables porque le echo hombre os acordáis si lo hubiera dicho un puerto específico verías si está abierto está cerrado o está filtrado bien Ahora vamos a esperar un poco y mientras Esto va trabajando veremos que las dos máquinas están corriendo sobre la misma red en este caso porque la he hecho yo en casa por ejemplo cómo lo descubro me meto en mi máquina Host pongo ipconfig y me dará la dirección que tenéis en vuestro equipo si es cable si es wi-fi lo que sea si es por wi-fi cogéis la que os entrega la vlan y montamos una red Nat para que podamos trabajar sobre wi-fi trabajar desde el mismo punto bien vale Pero entonces cada mañana\n",
            "\n",
            "Procesando: segment_12.wav\n",
            "Transcripción de segment_12.wav: está configurada con con la misma claro eso Es lógico Sí sí pero quiero preguntar eso es muy lógico si no no se verían las redes el primer problema contra ellos es el pin pero a veces el pin nos da algún fallo y no llega pero sí sí ponéis lo del Arre y toda la red local eh todo lo que le encuentro ya tenéis acceso a nivel de protocolo de la oci hasta 4 vale se ha entendido chicos es lo más laborioso y ten en cuenta que cuando el caballo del malo que tiene este Pero te voy a hacer caso pequeño varias redes No porque yo estoy trabajando tener la gana por eso se llama las redes pruebas por supuesto y cuando lo tengáis claro y funcione me hacéis el informe técnico con capturas de pantalla que así sabré si lo habéis hecho venga chicos que son bajitos y se dejan\n",
            "\n",
            "Procesando: segment_13.wav\n",
            "No se pudo entender el audio: segment_13.wav\n",
            "Transcripción guardada en transcripcion_final.txt\n"
          ]
        }
      ]
    },
    {
      "cell_type": "code",
      "source": [
        "input_txt_file = \"transcripcion_final.txt\"\n",
        "output_pdf_file = \"transcripcion_final.pdf\"\n",
        "\n",
        "pdf = FPDF()\n",
        "pdf.set_auto_page_break(auto=True, margin=15)\n",
        "pdf.add_page()\n",
        "pdf.set_font(\"Arial\", size=12)\n",
        "\n",
        "with open(input_txt_file, \"r\", encoding=\"utf-8\") as file:\n",
        "    for line in file:\n",
        "        pdf.multi_cell(0, 10, line.encode('latin-1', 'replace').decode('latin-1'))\n",
        "\n",
        "pdf.output(output_pdf_file)\n",
        "print(f\"Archivo PDF guardado como {output_pdf_file}\")"
      ],
      "metadata": {
        "colab": {
          "base_uri": "https://localhost:8080/"
        },
        "id": "QXRIe4gXbSY8",
        "outputId": "cce63393-204e-42c1-ffdc-c3471372e9a3"
      },
      "execution_count": 15,
      "outputs": [
        {
          "output_type": "stream",
          "name": "stdout",
          "text": [
            "Archivo PDF guardado como transcripcion_final.pdf\n"
          ]
        }
      ]
    }
  ]
}