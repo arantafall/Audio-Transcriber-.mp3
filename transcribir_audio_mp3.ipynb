{
  "nbformat": 4,
  "nbformat_minor": 0,
  "metadata": {
    "colab": {
      "provenance": []
    },
    "kernelspec": {
      "name": "python3",
      "display_name": "Python 3"
    },
    "language_info": {
      "name": "python"
    }
  },
  "cells": [
    {
      "cell_type": "code",
      "execution_count": 22,
      "metadata": {
        "colab": {
          "base_uri": "https://localhost:8080/"
        },
        "id": "zUCzhug5PRro",
        "outputId": "37e5e9ca-9ddd-42fe-a20a-ad264d95f40d"
      },
      "outputs": [
        {
          "output_type": "stream",
          "name": "stdout",
          "text": [
            "Requirement already satisfied: SpeechRecognition in /usr/local/lib/python3.10/dist-packages (3.13.0)\n",
            "Requirement already satisfied: pydub in /usr/local/lib/python3.10/dist-packages (0.25.1)\n",
            "Requirement already satisfied: typing-extensions in /usr/local/lib/python3.10/dist-packages (from SpeechRecognition) (4.12.2)\n"
          ]
        }
      ],
      "source": [
        "pip install SpeechRecognition pydub"
      ]
    },
    {
      "cell_type": "code",
      "source": [
        "audio_path = \"audio.mp3\""
      ],
      "metadata": {
        "id": "TuyzRxj7QyTi"
      },
      "execution_count": 7,
      "outputs": []
    },
    {
      "cell_type": "code",
      "source": [
        "from pydub import AudioSegment\n",
        "from pydub.utils import which\n",
        "\n",
        "AudioSegment.converter = which(\"ffmpeg\")\n",
        "\n",
        "# Ruta del archivo de audio\n",
        "audio_path = \"audio/Audio2.mp3\"\n",
        "\n",
        "audio_wav = \"audio_temp.wav\"\n",
        "AudioSegment.from_file(audio_path).export(audio_wav, format=\"wav\")\n"
      ],
      "metadata": {
        "colab": {
          "base_uri": "https://localhost:8080/"
        },
        "id": "UOxflg6sQPUp",
        "outputId": "66eeae9e-5e61-4ffe-cc49-959d3f06d590"
      },
      "execution_count": 10,
      "outputs": [
        {
          "output_type": "execute_result",
          "data": {
            "text/plain": [
              "<_io.BufferedRandom name='audio_temp.wav'>"
            ]
          },
          "metadata": {},
          "execution_count": 10
        }
      ]
    },
    {
      "cell_type": "code",
      "source": [
        "import speech_recognition as sr\n",
        "from pydub import AudioSegment\n",
        "\n",
        "# Ruta del archivo de audio (cámbiala por la tuya)\n",
        "audio_path = \"audio/Audio2.mp3\"\n",
        "\n",
        "\n",
        "audio_wav = \"audio_temp.wav\"\n",
        "AudioSegment.from_file(audio_path).export(audio_wav, format=\"wav\")\n",
        "\n",
        "\n",
        "recognizer = sr.Recognizer()\n",
        "\n",
        "\n",
        "with sr.AudioFile(audio_wav) as source:\n",
        "    print(\"Cargando el audio...\")\n",
        "    audio_data = recognizer.record(source)\n",
        "\n",
        "try:\n",
        "    transcription = recognizer.recognize_google(audio_data, language=\"es-ES\")\n",
        "    print(\"Transcripción:\")\n",
        "    print(transcription)\n",
        "except sr.UnknownValueError:\n",
        "    print(\"No se pudo entender el audio.\")\n",
        "except sr.RequestError as e:\n",
        "    print(f\"Error del servicio de reconocimiento: {e}\")\n"
      ],
      "metadata": {
        "colab": {
          "base_uri": "https://localhost:8080/"
        },
        "id": "hyEYfAl3PXgh",
        "outputId": "f0b56ed4-e4dd-4449-d4c0-b5e16b6176ee"
      },
      "execution_count": 11,
      "outputs": [
        {
          "output_type": "stream",
          "name": "stdout",
          "text": [
            "Cargando el audio...\n",
            "Error del servicio de reconocimiento: recognition request failed: Bad Request\n"
          ]
        }
      ]
    },
    {
      "cell_type": "code",
      "source": [
        "from pydub import AudioSegment\n",
        "\n",
        "# Cargar el archivo de audio\n",
        "audio = AudioSegment.from_file(\"audio_temp.wav\")\n",
        "\n",
        "# Dividir en segmentos de 1 minuto (60,000 ms)\n",
        "segment_duration = 60 * 1000\n",
        "for i, segment in enumerate(audio[::segment_duration]):\n",
        "    segment.export(f\"segment_{i}.wav\", format=\"wav\")\n"
      ],
      "metadata": {
        "id": "jSa84iPa_oSJ"
      },
      "execution_count": 12,
      "outputs": []
    },
    {
      "cell_type": "code",
      "source": [
        "import os\n",
        "import speech_recognition as sr\n",
        "\n",
        "recognizer = sr.Recognizer()\n",
        "\n",
        "# Directorio donde se encuentran los archivos de audio\n",
        "audio_directory = \"segmentos\"  # Cambia esta ruta si es necesario\n",
        "audio_files = sorted([f for f in os.listdir(audio_directory) if f.endswith(\".wav\")])\n",
        "\n",
        "# Archivo para guardar la transcripción\n",
        "output_file = \"transcripcion.txt\"\n",
        "\n",
        "# Transcribir cada archivo\n",
        "with open(output_file, \"w\", encoding=\"utf-8\") as file:\n",
        "    for audio_file in audio_files:\n",
        "        audio_path = os.path.join(audio_directory, audio_file)\n",
        "        print(f\"Transcribiendo: {audio_file}\")\n",
        "\n",
        "        try:\n",
        "            with sr.AudioFile(audio_path) as source:\n",
        "                audio_data = recognizer.record(source)\n",
        "                transcription = recognizer.recognize_google(audio_data, language=\"es-ES\")\n",
        "                print(f\"Transcripción de {audio_file}: {transcription}\\n\")\n",
        "\n",
        "                # Escribir en el archivo de salida\n",
        "                file.write(f\"--- Transcripción de {audio_file} ---\\n\")\n",
        "                file.write(transcription + \"\\n\\n\")\n",
        "        except sr.UnknownValueError:\n",
        "            print(f\"No se pudo entender el audio: {audio_file}\")\n",
        "            file.write(f\"--- Transcripción de {audio_file} ---\\n\")\n",
        "            file.write(\"No se pudo entender el audio.\\n\\n\")\n",
        "        except sr.RequestError as e:\n",
        "            print(f\"Error del servicio de reconocimiento: {e}\")\n",
        "            file.write(f\"Error del servicio para {audio_file}: {e}\\n\\n\")\n",
        "\n",
        "print(f\"Transcripciones guardadas en {output_file}\")\n"
      ],
      "metadata": {
        "colab": {
          "base_uri": "https://localhost:8080/",
          "height": 373
        },
        "id": "9l6Bh4t0AJBL",
        "outputId": "a9656e47-acfd-42af-ea3b-29d7c4f7fa60"
      },
      "execution_count": 30,
      "outputs": [
        {
          "output_type": "stream",
          "name": "stdout",
          "text": [
            "Transcribiendo: segment_0.wav\n"
          ]
        },
        {
          "output_type": "error",
          "ename": "KeyboardInterrupt",
          "evalue": "",
          "traceback": [
            "\u001b[0;31m---------------------------------------------------------------------------\u001b[0m",
            "\u001b[0;31mKeyboardInterrupt\u001b[0m                         Traceback (most recent call last)",
            "\u001b[0;32m<ipython-input-30-89d0b98f1633>\u001b[0m in \u001b[0;36m<cell line: 14>\u001b[0;34m()\u001b[0m\n\u001b[1;32m     20\u001b[0m             \u001b[0;32mwith\u001b[0m \u001b[0msr\u001b[0m\u001b[0;34m.\u001b[0m\u001b[0mAudioFile\u001b[0m\u001b[0;34m(\u001b[0m\u001b[0maudio_path\u001b[0m\u001b[0;34m)\u001b[0m \u001b[0;32mas\u001b[0m \u001b[0msource\u001b[0m\u001b[0;34m:\u001b[0m\u001b[0;34m\u001b[0m\u001b[0;34m\u001b[0m\u001b[0m\n\u001b[1;32m     21\u001b[0m                 \u001b[0maudio_data\u001b[0m \u001b[0;34m=\u001b[0m \u001b[0mrecognizer\u001b[0m\u001b[0;34m.\u001b[0m\u001b[0mrecord\u001b[0m\u001b[0;34m(\u001b[0m\u001b[0msource\u001b[0m\u001b[0;34m)\u001b[0m\u001b[0;34m\u001b[0m\u001b[0;34m\u001b[0m\u001b[0m\n\u001b[0;32m---> 22\u001b[0;31m                 \u001b[0mtranscription\u001b[0m \u001b[0;34m=\u001b[0m \u001b[0mrecognizer\u001b[0m\u001b[0;34m.\u001b[0m\u001b[0mrecognize_google\u001b[0m\u001b[0;34m(\u001b[0m\u001b[0maudio_data\u001b[0m\u001b[0;34m,\u001b[0m \u001b[0mlanguage\u001b[0m\u001b[0;34m=\u001b[0m\u001b[0;34m\"es-ES\"\u001b[0m\u001b[0;34m)\u001b[0m\u001b[0;34m\u001b[0m\u001b[0;34m\u001b[0m\u001b[0m\n\u001b[0m\u001b[1;32m     23\u001b[0m                 \u001b[0mprint\u001b[0m\u001b[0;34m(\u001b[0m\u001b[0;34mf\"Transcripción de {audio_file}: {transcription}\\n\"\u001b[0m\u001b[0;34m)\u001b[0m\u001b[0;34m\u001b[0m\u001b[0;34m\u001b[0m\u001b[0m\n\u001b[1;32m     24\u001b[0m \u001b[0;34m\u001b[0m\u001b[0m\n",
            "\u001b[0;32m/usr/local/lib/python3.10/dist-packages/speech_recognition/recognizers/google.py\u001b[0m in \u001b[0;36mrecognize_legacy\u001b[0;34m(recognizer, audio_data, key, language, pfilter, show_all, with_confidence, endpoint)\u001b[0m\n\u001b[1;32m    254\u001b[0m     \u001b[0mrequest\u001b[0m \u001b[0;34m=\u001b[0m \u001b[0mrequest_builder\u001b[0m\u001b[0;34m.\u001b[0m\u001b[0mbuild\u001b[0m\u001b[0;34m(\u001b[0m\u001b[0maudio_data\u001b[0m\u001b[0;34m)\u001b[0m\u001b[0;34m\u001b[0m\u001b[0;34m\u001b[0m\u001b[0m\n\u001b[1;32m    255\u001b[0m \u001b[0;34m\u001b[0m\u001b[0m\n\u001b[0;32m--> 256\u001b[0;31m     response_text = obtain_transcription(\n\u001b[0m\u001b[1;32m    257\u001b[0m         \u001b[0mrequest\u001b[0m\u001b[0;34m,\u001b[0m \u001b[0mtimeout\u001b[0m\u001b[0;34m=\u001b[0m\u001b[0mrecognizer\u001b[0m\u001b[0;34m.\u001b[0m\u001b[0moperation_timeout\u001b[0m\u001b[0;34m\u001b[0m\u001b[0;34m\u001b[0m\u001b[0m\n\u001b[1;32m    258\u001b[0m     )\n",
            "\u001b[0;32m/usr/local/lib/python3.10/dist-packages/speech_recognition/recognizers/google.py\u001b[0m in \u001b[0;36mobtain_transcription\u001b[0;34m(request, timeout)\u001b[0m\n\u001b[1;32m    220\u001b[0m             \u001b[0;34m\"recognition connection failed: {}\"\u001b[0m\u001b[0;34m.\u001b[0m\u001b[0mformat\u001b[0m\u001b[0;34m(\u001b[0m\u001b[0me\u001b[0m\u001b[0;34m.\u001b[0m\u001b[0mreason\u001b[0m\u001b[0;34m)\u001b[0m\u001b[0;34m\u001b[0m\u001b[0;34m\u001b[0m\u001b[0m\n\u001b[1;32m    221\u001b[0m         )\n\u001b[0;32m--> 222\u001b[0;31m     \u001b[0;32mreturn\u001b[0m \u001b[0mresponse\u001b[0m\u001b[0;34m.\u001b[0m\u001b[0mread\u001b[0m\u001b[0;34m(\u001b[0m\u001b[0;34m)\u001b[0m\u001b[0;34m.\u001b[0m\u001b[0mdecode\u001b[0m\u001b[0;34m(\u001b[0m\u001b[0;34m\"utf-8\"\u001b[0m\u001b[0;34m)\u001b[0m\u001b[0;34m\u001b[0m\u001b[0;34m\u001b[0m\u001b[0m\n\u001b[0m\u001b[1;32m    223\u001b[0m \u001b[0;34m\u001b[0m\u001b[0m\n\u001b[1;32m    224\u001b[0m \u001b[0;34m\u001b[0m\u001b[0m\n",
            "\u001b[0;32m/usr/lib/python3.10/http/client.py\u001b[0m in \u001b[0;36mread\u001b[0;34m(self, amt)\u001b[0m\n\u001b[1;32m    458\u001b[0m \u001b[0;34m\u001b[0m\u001b[0m\n\u001b[1;32m    459\u001b[0m         \u001b[0;32mif\u001b[0m \u001b[0mself\u001b[0m\u001b[0;34m.\u001b[0m\u001b[0mchunked\u001b[0m\u001b[0;34m:\u001b[0m\u001b[0;34m\u001b[0m\u001b[0;34m\u001b[0m\u001b[0m\n\u001b[0;32m--> 460\u001b[0;31m             \u001b[0;32mreturn\u001b[0m \u001b[0mself\u001b[0m\u001b[0;34m.\u001b[0m\u001b[0m_read_chunked\u001b[0m\u001b[0;34m(\u001b[0m\u001b[0mamt\u001b[0m\u001b[0;34m)\u001b[0m\u001b[0;34m\u001b[0m\u001b[0;34m\u001b[0m\u001b[0m\n\u001b[0m\u001b[1;32m    461\u001b[0m \u001b[0;34m\u001b[0m\u001b[0m\n\u001b[1;32m    462\u001b[0m         \u001b[0;32mif\u001b[0m \u001b[0mamt\u001b[0m \u001b[0;32mis\u001b[0m \u001b[0;32mnot\u001b[0m \u001b[0;32mNone\u001b[0m\u001b[0;34m:\u001b[0m\u001b[0;34m\u001b[0m\u001b[0;34m\u001b[0m\u001b[0m\n",
            "\u001b[0;32m/usr/lib/python3.10/http/client.py\u001b[0m in \u001b[0;36m_read_chunked\u001b[0;34m(self, amt)\u001b[0m\n\u001b[1;32m    581\u001b[0m         \u001b[0;32mtry\u001b[0m\u001b[0;34m:\u001b[0m\u001b[0;34m\u001b[0m\u001b[0;34m\u001b[0m\u001b[0m\n\u001b[1;32m    582\u001b[0m             \u001b[0;32mwhile\u001b[0m \u001b[0;32mTrue\u001b[0m\u001b[0;34m:\u001b[0m\u001b[0;34m\u001b[0m\u001b[0;34m\u001b[0m\u001b[0m\n\u001b[0;32m--> 583\u001b[0;31m                 \u001b[0mchunk_left\u001b[0m \u001b[0;34m=\u001b[0m \u001b[0mself\u001b[0m\u001b[0;34m.\u001b[0m\u001b[0m_get_chunk_left\u001b[0m\u001b[0;34m(\u001b[0m\u001b[0;34m)\u001b[0m\u001b[0;34m\u001b[0m\u001b[0;34m\u001b[0m\u001b[0m\n\u001b[0m\u001b[1;32m    584\u001b[0m                 \u001b[0;32mif\u001b[0m \u001b[0mchunk_left\u001b[0m \u001b[0;32mis\u001b[0m \u001b[0;32mNone\u001b[0m\u001b[0;34m:\u001b[0m\u001b[0;34m\u001b[0m\u001b[0;34m\u001b[0m\u001b[0m\n\u001b[1;32m    585\u001b[0m                     \u001b[0;32mbreak\u001b[0m\u001b[0;34m\u001b[0m\u001b[0;34m\u001b[0m\u001b[0m\n",
            "\u001b[0;32m/usr/lib/python3.10/http/client.py\u001b[0m in \u001b[0;36m_get_chunk_left\u001b[0;34m(self)\u001b[0m\n\u001b[1;32m    564\u001b[0m                 \u001b[0mself\u001b[0m\u001b[0;34m.\u001b[0m\u001b[0m_safe_read\u001b[0m\u001b[0;34m(\u001b[0m\u001b[0;36m2\u001b[0m\u001b[0;34m)\u001b[0m  \u001b[0;31m# toss the CRLF at the end of the chunk\u001b[0m\u001b[0;34m\u001b[0m\u001b[0;34m\u001b[0m\u001b[0m\n\u001b[1;32m    565\u001b[0m             \u001b[0;32mtry\u001b[0m\u001b[0;34m:\u001b[0m\u001b[0;34m\u001b[0m\u001b[0;34m\u001b[0m\u001b[0m\n\u001b[0;32m--> 566\u001b[0;31m                 \u001b[0mchunk_left\u001b[0m \u001b[0;34m=\u001b[0m \u001b[0mself\u001b[0m\u001b[0;34m.\u001b[0m\u001b[0m_read_next_chunk_size\u001b[0m\u001b[0;34m(\u001b[0m\u001b[0;34m)\u001b[0m\u001b[0;34m\u001b[0m\u001b[0;34m\u001b[0m\u001b[0m\n\u001b[0m\u001b[1;32m    567\u001b[0m             \u001b[0;32mexcept\u001b[0m \u001b[0mValueError\u001b[0m\u001b[0;34m:\u001b[0m\u001b[0;34m\u001b[0m\u001b[0;34m\u001b[0m\u001b[0m\n\u001b[1;32m    568\u001b[0m                 \u001b[0;32mraise\u001b[0m \u001b[0mIncompleteRead\u001b[0m\u001b[0;34m(\u001b[0m\u001b[0;34mb''\u001b[0m\u001b[0;34m)\u001b[0m\u001b[0;34m\u001b[0m\u001b[0;34m\u001b[0m\u001b[0m\n",
            "\u001b[0;32m/usr/lib/python3.10/http/client.py\u001b[0m in \u001b[0;36m_read_next_chunk_size\u001b[0;34m(self)\u001b[0m\n\u001b[1;32m    524\u001b[0m     \u001b[0;32mdef\u001b[0m \u001b[0m_read_next_chunk_size\u001b[0m\u001b[0;34m(\u001b[0m\u001b[0mself\u001b[0m\u001b[0;34m)\u001b[0m\u001b[0;34m:\u001b[0m\u001b[0;34m\u001b[0m\u001b[0;34m\u001b[0m\u001b[0m\n\u001b[1;32m    525\u001b[0m         \u001b[0;31m# Read the next chunk size from the file\u001b[0m\u001b[0;34m\u001b[0m\u001b[0;34m\u001b[0m\u001b[0m\n\u001b[0;32m--> 526\u001b[0;31m         \u001b[0mline\u001b[0m \u001b[0;34m=\u001b[0m \u001b[0mself\u001b[0m\u001b[0;34m.\u001b[0m\u001b[0mfp\u001b[0m\u001b[0;34m.\u001b[0m\u001b[0mreadline\u001b[0m\u001b[0;34m(\u001b[0m\u001b[0m_MAXLINE\u001b[0m \u001b[0;34m+\u001b[0m \u001b[0;36m1\u001b[0m\u001b[0;34m)\u001b[0m\u001b[0;34m\u001b[0m\u001b[0;34m\u001b[0m\u001b[0m\n\u001b[0m\u001b[1;32m    527\u001b[0m         \u001b[0;32mif\u001b[0m \u001b[0mlen\u001b[0m\u001b[0;34m(\u001b[0m\u001b[0mline\u001b[0m\u001b[0;34m)\u001b[0m \u001b[0;34m>\u001b[0m \u001b[0m_MAXLINE\u001b[0m\u001b[0;34m:\u001b[0m\u001b[0;34m\u001b[0m\u001b[0;34m\u001b[0m\u001b[0m\n\u001b[1;32m    528\u001b[0m             \u001b[0;32mraise\u001b[0m \u001b[0mLineTooLong\u001b[0m\u001b[0;34m(\u001b[0m\u001b[0;34m\"chunk size\"\u001b[0m\u001b[0;34m)\u001b[0m\u001b[0;34m\u001b[0m\u001b[0;34m\u001b[0m\u001b[0m\n",
            "\u001b[0;32m/usr/lib/python3.10/socket.py\u001b[0m in \u001b[0;36mreadinto\u001b[0;34m(self, b)\u001b[0m\n\u001b[1;32m    703\u001b[0m         \u001b[0;32mwhile\u001b[0m \u001b[0;32mTrue\u001b[0m\u001b[0;34m:\u001b[0m\u001b[0;34m\u001b[0m\u001b[0;34m\u001b[0m\u001b[0m\n\u001b[1;32m    704\u001b[0m             \u001b[0;32mtry\u001b[0m\u001b[0;34m:\u001b[0m\u001b[0;34m\u001b[0m\u001b[0;34m\u001b[0m\u001b[0m\n\u001b[0;32m--> 705\u001b[0;31m                 \u001b[0;32mreturn\u001b[0m \u001b[0mself\u001b[0m\u001b[0;34m.\u001b[0m\u001b[0m_sock\u001b[0m\u001b[0;34m.\u001b[0m\u001b[0mrecv_into\u001b[0m\u001b[0;34m(\u001b[0m\u001b[0mb\u001b[0m\u001b[0;34m)\u001b[0m\u001b[0;34m\u001b[0m\u001b[0;34m\u001b[0m\u001b[0m\n\u001b[0m\u001b[1;32m    706\u001b[0m             \u001b[0;32mexcept\u001b[0m \u001b[0mtimeout\u001b[0m\u001b[0;34m:\u001b[0m\u001b[0;34m\u001b[0m\u001b[0;34m\u001b[0m\u001b[0m\n\u001b[1;32m    707\u001b[0m                 \u001b[0mself\u001b[0m\u001b[0;34m.\u001b[0m\u001b[0m_timeout_occurred\u001b[0m \u001b[0;34m=\u001b[0m \u001b[0;32mTrue\u001b[0m\u001b[0;34m\u001b[0m\u001b[0;34m\u001b[0m\u001b[0m\n",
            "\u001b[0;31mKeyboardInterrupt\u001b[0m: "
          ]
        }
      ]
    },
    {
      "cell_type": "code",
      "source": [
        "import os\n",
        "import speech_recognition as sr\n",
        "\n",
        "# Inicializar el reconocedor\n",
        "recognizer = sr.Recognizer()\n",
        "\n",
        "# Directorio donde se encuentran los archivos de audio\n",
        "audio_directory = \"segmentos\"  # Cambia esta ruta si es necesario\n",
        "audio_files = sorted([f for f in os.listdir(audio_directory) if f.endswith(\".wav\")])\n",
        "\n",
        "# Archivo para guardar la transcripción continua\n",
        "output_file = \"transcripcion_continua.txt\"\n",
        "\n",
        "# Variable para almacenar todas las transcripciones\n",
        "texto_completo = \"\"\n",
        "\n",
        "# Transcribir cada archivo y combinar en un solo texto\n",
        "for audio_file in audio_files:\n",
        "    audio_path = os.path.join(audio_directory, audio_file)\n",
        "    print(f\"Transcribiendo: {audio_file}\")\n",
        "\n",
        "    try:\n",
        "        with sr.AudioFile(audio_path) as source:\n",
        "            audio_data = recognizer.record(source)\n",
        "            transcription = recognizer.recognize_google(audio_data, language=\"es-ES\")\n",
        "            print(f\"Transcripción de {audio_file}: {transcription}\\n\")\n",
        "\n",
        "            # Agregar al texto completo\n",
        "            texto_completo += transcription + \" \"\n",
        "    except sr.UnknownValueError:\n",
        "        print(f\"No se pudo entender el audio: {audio_file}\")\n",
        "        texto_completo += \"[No se pudo entender este fragmento.] \"\n",
        "    except sr.RequestError as e:\n",
        "        print(f\"Error del servicio de reconocimiento: {e}\")\n",
        "        texto_completo += f\"[Error del servicio: {e}] \"\n",
        "\n",
        "# Guardar el texto completo en el archivo de salida\n",
        "with open(output_file, \"w\", encoding=\"utf-8\") as file:\n",
        "    file.write(texto_completo)\n",
        "\n",
        "print(f\"Transcripción completa guardada en {output_file}\")\n"
      ],
      "metadata": {
        "colab": {
          "base_uri": "https://localhost:8080/"
        },
        "id": "0RpNajt6aiy7",
        "outputId": "11495f93-deba-4059-dddc-572787aa3ab7"
      },
      "execution_count": 18,
      "outputs": [
        {
          "output_type": "stream",
          "name": "stdout",
          "text": [
            "Transcribiendo: segment_0.wav\n",
            "Transcripción de segment_0.wav: una comunicación entre Cali y Windows vale Si no tenemos la red Nat porque podemos tener varias redes más montadas para nuestros equipos por ejemplo en casa por wi-fi no es lo mismo que cuando lo hago por cable os habéis dado cuenta que cuando voy por cable me entregan $122 168.2 y tal en cambio por wi-fi me da otro otro Rango pero normalmente empiezan por 10 entonces podéis tener varias redes Nat sí se entiende la idea Este es el primer problema porque si no no llegaré a destino y no podré analizar y podré ver lo que pasa en la máquina objetivo que en este caso la máquina objetivo estaría preparada dentro de lo que es Cali de acuerdo Entonces qué he hecho primer paso cómo configuro la red\n",
            "\n",
            "Transcribiendo: segment_1.wav\n",
            "Transcripción de segment_1.wav: nosotros desde esta opción primero os explico el paso de cómo seríais no aquí en Cali tenéis que olvidaros un poco de la idea de Cali porque quién es el que manda en las comunicaciones virtualbox es la que nos permite varias configuraciones os habéis dado cuenta que desde virtualbox que nos vamos a red y nos dice cosas vale Por ejemplo yo me puedo ir a esta herramienta le digo a partir de aquí que yo quiero crear redes sociales que es la que voy a crear vale Esa es la primera que tengo que hacer para qué para que los dos equipos puedan conectarse a la misma red si la red ya sale significa que funciona y con qué parámetros son muy sencillos los parámetros el secreto es el prefijo que le vamos a dar lo veis esto se crea antes de abril esto lo tienes que hacer\n",
            "\n",
            "Transcribiendo: segment_10.wav\n",
            "Transcripción de segment_10.wav: Bueno pues la neta 672 qué le voy a decir vale Ahí lo tengo le voy a decir n más que quiero saber bueno primero con mayúscula Verdad que sí y luego le quiero decir quiero que me analices todos los puertos Aunque tarde es un rato A cuál 10.0.24 y en alguno de los casos a partir de aquí sí Ahora me daría adentro y no nos\n",
            "\n",
            "Transcribiendo: segment_11.wav\n",
            "Transcripción de segment_11.wav: Ah va a tardar un montón pero nos va a decir cuáles son los puertos vulnerables porque le echo hombre os acordáis si lo hubiera dicho un puerto específico verías si está abierto está cerrado o está filtrado bien Ahora vamos a esperar un poco y mientras Esto va trabajando veremos que las dos máquinas están corriendo sobre la misma red en este caso porque la he hecho yo en casa por ejemplo cómo lo descubro me meto en mi máquina Host pongo ipconfig y me dará la dirección que tenéis en vuestro equipo si es cable si es wi-fi lo que sea si es por wi-fi cogéis la que os entrega la vlan y montamos una red Nat para que podamos trabajar sobre wi-fi trabajar desde el mismo punto bien vale Pero entonces cada mañana\n",
            "\n",
            "Transcribiendo: segment_12.wav\n",
            "Transcripción de segment_12.wav: está configurada con con la misma claro eso Es lógico Sí sí pero quiero preguntar eso es muy lógico si no no se verían las redes el primer problema contra ellos es el pin pero a veces el pin nos da algún fallo y no llega pero sí sí ponéis lo del Arre y toda la red local eh todo lo que le encuentro ya tenéis acceso a nivel de protocolo de la oci hasta 4 vale se ha entendido chicos es lo más laborioso y ten en cuenta que cuando el caballo del malo que tiene este Pero te voy a hacer caso pequeño varias redes No porque yo estoy trabajando tener la gana por eso se llama las redes pruebas por supuesto y cuando lo tengáis claro y funcione me hacéis el informe técnico con capturas de pantalla que así sabré si lo habéis hecho venga chicos que son bajitos y se dejan\n",
            "\n",
            "Transcribiendo: segment_13.wav\n",
            "No se pudo entender el audio: segment_13.wav\n",
            "Transcribiendo: segment_2.wav\n",
            "Transcripción de segment_2.wav: luego veremos Cuál es el proceso si las otras cosas están en marcha No pasa nada pero si lo configuras hay que reiniciarlo todo entonces hay que tener en cuenta que tal Y tenemos la idea clara que siempre va por el mismo sitio os acordáis 10.0.25 eso es lo que nos da Cali Si lo queremos cambiar podríamos hacerlo eh pero vamos a centrarnos con eso y luego ya si queremos trastear en las comunicaciones ya lo veremos vale Entonces nosotros vamos a crear una red que tenga este segmento de acuerdo cuando lo creamos que sea el 0/24 para que para que me coja toda la subred le puedo entregar cualquier número por ejemplo ahora eh nuestro Windows el que yo os he entregado cuando monto esta red me entrega el 10.0.24 normalmente cuando lo tengáis en casa los los predefinidos están Y si aún tenéis problemas podéis hacer la última virgueria que se acostumbra a hacer que es me voy a me voy a la tarjeta de red y le digo que era una IP fijada en este segmento y punto y seguro que\n",
            "\n",
            "Transcribiendo: segment_3.wav\n",
            "Transcripción de segment_3.wav: Mira por qué Porque forman parte de la misma red sí os acordáis que lo estuvimos comentando Esto es lo más complejo de todo eh Porque si en esto ya no podéis metals no podéis hacer nada Por qué Porque estamos montando nuestro laboratorio esto es la parte más compleja entonces ya tengo la idea clara que tengo este elemento por supuesto habilitar el dhcp sí siempre ha de estar habilitado por qué Porque si no no nos entregaría y lo último la clase que la clase siempre es tipo c 255 en la que os he puesto aquí los 552552556 y está será la que tendremos de configurar en cada una de las máquinas que deseemos ver si se va entendiendo primero montamos tres elementos y cómo lo he hecho mirar qué sencillo es yo tengo aquí a las dos máquinas abiertas vale si estoy en Cali aquí yo me he ido a la configuración en Cali\n",
            "\n",
            "Transcribiendo: segment_4.wav\n",
            "Transcripción de segment_4.wav: vale vale Y cuando le digo red ves que la he bautizado con otro nombre red Network de Cali cuando estéis en casa le podéis poner red Network casa con el 192 qué haríamos lo mismo 192 168.144% o de ubicaciones o la podéis hacer en el momento puntual cuando os conectes vayas a una empresa qué segmento ifconfig pues tiene la 122 110 110 puntos pues haríamos ese segmento para poder formar parte de la red Nosotros sí se entiende la idea Sí pero yo cuando voy a herramientas\n",
            "\n",
            "Transcribiendo: segment_5.wav\n",
            "Transcripción de segment_5.wav: directamente algo no me aparece lo que está apareciendo todo depende la versión anterior el nombre del sistema operativo carpeta de 2018 Solo tienes una opción vamos para allá herramientas herramientas chicos bien tener en cuenta que ahora os lo explico y luego os tendréis que pelear para entenderlo y que veáis que funciona en este ejemplo Vale entonces yo en esta red ahora tengo dos máquinas que están corriendo no sé si os dais cuenta Mirad Mirad Cómo os lo explico luego ya traste pero no preguntéis sin hacerlo bien\n",
            "\n",
            "Transcribiendo: segment_6.wav\n",
            "Transcripción de segment_6.wav: las máquinas están corriendo chicos entonces Cali tiene que tener una IP y Windows otra pero dentro del mismo segmento sí o no bien cómo lo hago me voy a la máquina de Cali tengo aquí otra pantalla y si a este le pongo un gift config que me va a entregar la 10.0.1 O sea Está correcto y ahora me voy a la máquina de Windows de Windows sí Me tengo que ir a buscarla vale la tengo aquí ahora enviaré aquí dice que cuando me lo enseñé\n",
            "\n",
            "Transcribiendo: segment_7.wav\n",
            "Transcripción de segment_7.wav: cuando me lo quieren enseñar 10.02 € y ya está ya se ven sí se ha visto Qué sencillito es por qué Porque lo único que hemos hecho es decirle que los dos van a formar parte me voy a ir a tal y decir Oye qué red tengo montada Aquí sí me voy de nuevo a Cali Me voy a esta misma consola le digo os acordáis del sudo arp-scan localmente\n",
            "\n",
            "Transcribiendo: segment_8.wav\n",
            "Transcripción de segment_8.wav: porque no lo encontró si lo tenía antes por el local de guión guión localmente pero no lo he puesto bien no se supone que no te lo reconoce sí lo estoy escribiendo mal cómo van a meter parezco todo el mundo local Ahora sí debería dármelo el golfo que me acaba de encontrar las direcciones IP disponibles no vale venga que puede ser esto sección fondo qué es esto uno se salga de la de Windows que han estado en la red que están y no son las macs\n",
            "\n",
            "Transcribiendo: segment_9.wav\n",
            "Transcripción de segment_9.wav: Es que no me gusta mira aquí chatona Perdona es la ip porque ahora Windows tiene la cuatro y a mal sudo espacio en blanco arp-scan espacio en blanco guion guión local neta y dice todos los servidores que tengo para tener acceso Esta es la prueba de que ya podemos atacar a esas máquinas y analizar a esas máquinas o sea el siguiente paso después de hacer todo esto lo que hemos puesto el sudo espacio en blanco arp-scan espacio en blanco guión guión local net sí lo vemos de esta manera lo que hemos hecho es decirle al sistema que hay tantas Y por último lo que voy a hacer Pues voy a ver si hay alguna vulnerabilidad en algún Puerto Sí qué voy a hacer Tenemos la 15 que es la nuestra de Cali A cuál tenemos de atacar a la cuatro por qué Porque está de Windows Entonces qué le voy a hacer pues va a ser tan sencillo Cómo decirle\n",
            "\n",
            "Transcripción completa guardada en transcripcion_continua.txt\n"
          ]
        }
      ]
    },
    {
      "cell_type": "code",
      "source": [
        "!pip install fpdf\n",
        "from fpdf import FPDF\n",
        "\n",
        "# Ruta del archivo de texto y nombre del archivo PDF\n",
        "input_txt_file = \"transcripcion_continua.txt\"\n",
        "output_pdf_file = \"transcripcion_continua.pdf\"\n",
        "\n",
        "# Crear un objeto PDF\n",
        "pdf = FPDF()\n",
        "pdf.set_auto_page_break(auto=True, margin=15)\n",
        "pdf.add_page()\n",
        "pdf.set_font(\"Arial\", size=12)\n",
        "\n",
        "# Leer el contenido del archivo de texto y agregarlo al PDF\n",
        "with open(input_txt_file, \"r\", encoding=\"utf-8\") as file:\n",
        "    for line in file:\n",
        "        pdf.multi_cell(0, 10, line)\n",
        "\n",
        "# Guardar el PDF\n",
        "pdf.output(output_pdf_file)\n",
        "print(f\"Archivo PDF guardado como {output_pdf_file}\")\n"
      ],
      "metadata": {
        "colab": {
          "base_uri": "https://localhost:8080/",
          "height": 356
        },
        "id": "QXRIe4gXbSY8",
        "outputId": "fda5554d-1202-4708-b9ef-d2dc41686ffc"
      },
      "execution_count": 29,
      "outputs": [
        {
          "output_type": "stream",
          "name": "stdout",
          "text": [
            "Requirement already satisfied: fpdf in /usr/local/lib/python3.10/dist-packages (1.7.2)\n"
          ]
        },
        {
          "output_type": "error",
          "ename": "UnicodeEncodeError",
          "evalue": "'latin-1' codec can't encode character '\\u20ac' in position 1951: ordinal not in range(256)",
          "traceback": [
            "\u001b[0;31m---------------------------------------------------------------------------\u001b[0m",
            "\u001b[0;31mUnicodeEncodeError\u001b[0m                        Traceback (most recent call last)",
            "\u001b[0;32m<ipython-input-29-ca9d825086c4>\u001b[0m in \u001b[0;36m<cell line: 20>\u001b[0;34m()\u001b[0m\n\u001b[1;32m     18\u001b[0m \u001b[0;34m\u001b[0m\u001b[0m\n\u001b[1;32m     19\u001b[0m \u001b[0;31m# Guardar el PDF\u001b[0m\u001b[0;34m\u001b[0m\u001b[0;34m\u001b[0m\u001b[0m\n\u001b[0;32m---> 20\u001b[0;31m \u001b[0mpdf\u001b[0m\u001b[0;34m.\u001b[0m\u001b[0moutput\u001b[0m\u001b[0;34m(\u001b[0m\u001b[0moutput_pdf_file\u001b[0m\u001b[0;34m)\u001b[0m\u001b[0;34m\u001b[0m\u001b[0;34m\u001b[0m\u001b[0m\n\u001b[0m\u001b[1;32m     21\u001b[0m \u001b[0mprint\u001b[0m\u001b[0;34m(\u001b[0m\u001b[0;34mf\"Archivo PDF guardado como {output_pdf_file}\"\u001b[0m\u001b[0;34m)\u001b[0m\u001b[0;34m\u001b[0m\u001b[0;34m\u001b[0m\u001b[0m\n",
            "\u001b[0;32m/usr/local/lib/python3.10/dist-packages/fpdf/fpdf.py\u001b[0m in \u001b[0;36moutput\u001b[0;34m(self, name, dest)\u001b[0m\n\u001b[1;32m   1063\u001b[0m         \u001b[0;31m#Finish document if necessary\u001b[0m\u001b[0;34m\u001b[0m\u001b[0;34m\u001b[0m\u001b[0m\n\u001b[1;32m   1064\u001b[0m         \u001b[0;32mif\u001b[0m\u001b[0;34m(\u001b[0m\u001b[0mself\u001b[0m\u001b[0;34m.\u001b[0m\u001b[0mstate\u001b[0m\u001b[0;34m<\u001b[0m\u001b[0;36m3\u001b[0m\u001b[0;34m)\u001b[0m\u001b[0;34m:\u001b[0m\u001b[0;34m\u001b[0m\u001b[0;34m\u001b[0m\u001b[0m\n\u001b[0;32m-> 1065\u001b[0;31m             \u001b[0mself\u001b[0m\u001b[0;34m.\u001b[0m\u001b[0mclose\u001b[0m\u001b[0;34m(\u001b[0m\u001b[0;34m)\u001b[0m\u001b[0;34m\u001b[0m\u001b[0;34m\u001b[0m\u001b[0m\n\u001b[0m\u001b[1;32m   1066\u001b[0m         \u001b[0mdest\u001b[0m\u001b[0;34m=\u001b[0m\u001b[0mdest\u001b[0m\u001b[0;34m.\u001b[0m\u001b[0mupper\u001b[0m\u001b[0;34m(\u001b[0m\u001b[0;34m)\u001b[0m\u001b[0;34m\u001b[0m\u001b[0;34m\u001b[0m\u001b[0m\n\u001b[1;32m   1067\u001b[0m         \u001b[0;32mif\u001b[0m\u001b[0;34m(\u001b[0m\u001b[0mdest\u001b[0m\u001b[0;34m==\u001b[0m\u001b[0;34m''\u001b[0m\u001b[0;34m)\u001b[0m\u001b[0;34m:\u001b[0m\u001b[0;34m\u001b[0m\u001b[0;34m\u001b[0m\u001b[0m\n",
            "\u001b[0;32m/usr/local/lib/python3.10/dist-packages/fpdf/fpdf.py\u001b[0m in \u001b[0;36mclose\u001b[0;34m(self)\u001b[0m\n\u001b[1;32m    244\u001b[0m         \u001b[0mself\u001b[0m\u001b[0;34m.\u001b[0m\u001b[0m_endpage\u001b[0m\u001b[0;34m(\u001b[0m\u001b[0;34m)\u001b[0m\u001b[0;34m\u001b[0m\u001b[0;34m\u001b[0m\u001b[0m\n\u001b[1;32m    245\u001b[0m         \u001b[0;31m#close document\u001b[0m\u001b[0;34m\u001b[0m\u001b[0;34m\u001b[0m\u001b[0m\n\u001b[0;32m--> 246\u001b[0;31m         \u001b[0mself\u001b[0m\u001b[0;34m.\u001b[0m\u001b[0m_enddoc\u001b[0m\u001b[0;34m(\u001b[0m\u001b[0;34m)\u001b[0m\u001b[0;34m\u001b[0m\u001b[0;34m\u001b[0m\u001b[0m\n\u001b[0m\u001b[1;32m    247\u001b[0m \u001b[0;34m\u001b[0m\u001b[0m\n\u001b[1;32m    248\u001b[0m     \u001b[0;32mdef\u001b[0m \u001b[0madd_page\u001b[0m\u001b[0;34m(\u001b[0m\u001b[0mself\u001b[0m\u001b[0;34m,\u001b[0m \u001b[0morientation\u001b[0m\u001b[0;34m=\u001b[0m\u001b[0;34m''\u001b[0m\u001b[0;34m)\u001b[0m\u001b[0;34m:\u001b[0m\u001b[0;34m\u001b[0m\u001b[0;34m\u001b[0m\u001b[0m\n",
            "\u001b[0;32m/usr/local/lib/python3.10/dist-packages/fpdf/fpdf.py\u001b[0m in \u001b[0;36m_enddoc\u001b[0;34m(self)\u001b[0m\n\u001b[1;32m   1634\u001b[0m     \u001b[0;32mdef\u001b[0m \u001b[0m_enddoc\u001b[0m\u001b[0;34m(\u001b[0m\u001b[0mself\u001b[0m\u001b[0;34m)\u001b[0m\u001b[0;34m:\u001b[0m\u001b[0;34m\u001b[0m\u001b[0;34m\u001b[0m\u001b[0m\n\u001b[1;32m   1635\u001b[0m         \u001b[0mself\u001b[0m\u001b[0;34m.\u001b[0m\u001b[0m_putheader\u001b[0m\u001b[0;34m(\u001b[0m\u001b[0;34m)\u001b[0m\u001b[0;34m\u001b[0m\u001b[0;34m\u001b[0m\u001b[0m\n\u001b[0;32m-> 1636\u001b[0;31m         \u001b[0mself\u001b[0m\u001b[0;34m.\u001b[0m\u001b[0m_putpages\u001b[0m\u001b[0;34m(\u001b[0m\u001b[0;34m)\u001b[0m\u001b[0;34m\u001b[0m\u001b[0;34m\u001b[0m\u001b[0m\n\u001b[0m\u001b[1;32m   1637\u001b[0m         \u001b[0mself\u001b[0m\u001b[0;34m.\u001b[0m\u001b[0m_putresources\u001b[0m\u001b[0;34m(\u001b[0m\u001b[0;34m)\u001b[0m\u001b[0;34m\u001b[0m\u001b[0;34m\u001b[0m\u001b[0m\n\u001b[1;32m   1638\u001b[0m         \u001b[0;31m#Info\u001b[0m\u001b[0;34m\u001b[0m\u001b[0;34m\u001b[0m\u001b[0m\n",
            "\u001b[0;32m/usr/local/lib/python3.10/dist-packages/fpdf/fpdf.py\u001b[0m in \u001b[0;36m_putpages\u001b[0;34m(self)\u001b[0m\n\u001b[1;32m   1168\u001b[0m             \u001b[0;32mif\u001b[0m \u001b[0mself\u001b[0m\u001b[0;34m.\u001b[0m\u001b[0mcompress\u001b[0m\u001b[0;34m:\u001b[0m\u001b[0;34m\u001b[0m\u001b[0;34m\u001b[0m\u001b[0m\n\u001b[1;32m   1169\u001b[0m                 \u001b[0;31m# manage binary data as latin1 until PEP461 or similar is implemented\u001b[0m\u001b[0;34m\u001b[0m\u001b[0;34m\u001b[0m\u001b[0m\n\u001b[0;32m-> 1170\u001b[0;31m                 \u001b[0mp\u001b[0m \u001b[0;34m=\u001b[0m \u001b[0mself\u001b[0m\u001b[0;34m.\u001b[0m\u001b[0mpages\u001b[0m\u001b[0;34m[\u001b[0m\u001b[0mn\u001b[0m\u001b[0;34m]\u001b[0m\u001b[0;34m.\u001b[0m\u001b[0mencode\u001b[0m\u001b[0;34m(\u001b[0m\u001b[0;34m\"latin1\"\u001b[0m\u001b[0;34m)\u001b[0m \u001b[0;32mif\u001b[0m \u001b[0mPY3K\u001b[0m \u001b[0;32melse\u001b[0m \u001b[0mself\u001b[0m\u001b[0;34m.\u001b[0m\u001b[0mpages\u001b[0m\u001b[0;34m[\u001b[0m\u001b[0mn\u001b[0m\u001b[0;34m]\u001b[0m\u001b[0;34m\u001b[0m\u001b[0;34m\u001b[0m\u001b[0m\n\u001b[0m\u001b[1;32m   1171\u001b[0m                 \u001b[0mp\u001b[0m \u001b[0;34m=\u001b[0m \u001b[0mzlib\u001b[0m\u001b[0;34m.\u001b[0m\u001b[0mcompress\u001b[0m\u001b[0;34m(\u001b[0m\u001b[0mp\u001b[0m\u001b[0;34m)\u001b[0m\u001b[0;34m\u001b[0m\u001b[0;34m\u001b[0m\u001b[0m\n\u001b[1;32m   1172\u001b[0m             \u001b[0;32melse\u001b[0m\u001b[0;34m:\u001b[0m\u001b[0;34m\u001b[0m\u001b[0;34m\u001b[0m\u001b[0m\n",
            "\u001b[0;31mUnicodeEncodeError\u001b[0m: 'latin-1' codec can't encode character '\\u20ac' in position 1951: ordinal not in range(256)"
          ]
        }
      ]
    },
    {
      "cell_type": "code",
      "source": [],
      "metadata": {
        "id": "qxOsOwBydJEN"
      },
      "execution_count": null,
      "outputs": []
    }
  ]
}