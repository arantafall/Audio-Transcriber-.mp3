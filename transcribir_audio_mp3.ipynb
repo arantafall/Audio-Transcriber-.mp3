{
  "nbformat": 4,
  "nbformat_minor": 0,
  "metadata": {
    "colab": {
      "provenance": []
    },
    "kernelspec": {
      "name": "python3",
      "display_name": "Python 3"
    },
    "language_info": {
      "name": "python"
    }
  },
  "cells": [
    {
      "cell_type": "code",
      "execution_count": 1,
      "metadata": {
        "colab": {
          "base_uri": "https://localhost:8080/"
        },
        "id": "zUCzhug5PRro",
        "outputId": "518cb22d-cb8d-49c0-98c6-3ec480e3ca66"
      },
      "outputs": [
        {
          "output_type": "stream",
          "name": "stdout",
          "text": [
            "Collecting SpeechRecognition\n",
            "  Downloading SpeechRecognition-3.13.0-py3-none-any.whl.metadata (30 kB)\n",
            "Collecting pydub\n",
            "  Downloading pydub-0.25.1-py2.py3-none-any.whl.metadata (1.4 kB)\n",
            "Requirement already satisfied: typing-extensions in /usr/local/lib/python3.10/dist-packages (from SpeechRecognition) (4.12.2)\n",
            "Downloading SpeechRecognition-3.13.0-py3-none-any.whl (32.8 MB)\n",
            "\u001b[2K   \u001b[90m━━━━━━━━━━━━━━━━━━━━━━━━━━━━━━━━━━━━━━━━\u001b[0m \u001b[32m32.8/32.8 MB\u001b[0m \u001b[31m32.5 MB/s\u001b[0m eta \u001b[36m0:00:00\u001b[0m\n",
            "\u001b[?25hDownloading pydub-0.25.1-py2.py3-none-any.whl (32 kB)\n",
            "Installing collected packages: pydub, SpeechRecognition\n",
            "Successfully installed SpeechRecognition-3.13.0 pydub-0.25.1\n"
          ]
        }
      ],
      "source": [
        "pip install SpeechRecognition pydub"
      ]
    },
    {
      "cell_type": "code",
      "source": [
        "audio_path = \"audio.mp3\""
      ],
      "metadata": {
        "id": "TuyzRxj7QyTi"
      },
      "execution_count": null,
      "outputs": []
    },
    {
      "cell_type": "code",
      "source": [
        "from pydub import AudioSegment\n",
        "from pydub.utils import which\n",
        "\n",
        "AudioSegment.converter = which(\"ffmpeg\")\n",
        "\n",
        "# Ruta del archivo de audio\n",
        "audio_path = \"audio/audio.mp3\"\n",
        "\n",
        "audio_wav = \"audio_temp.wav\"\n",
        "AudioSegment.from_file(audio_path).export(audio_wav, format=\"wav\")\n"
      ],
      "metadata": {
        "colab": {
          "base_uri": "https://localhost:8080/"
        },
        "id": "UOxflg6sQPUp",
        "outputId": "f7dd2378-c759-44da-8fc4-7258e7a7a096"
      },
      "execution_count": null,
      "outputs": [
        {
          "output_type": "execute_result",
          "data": {
            "text/plain": [
              "<_io.BufferedRandom name='audio_temp.wav'>"
            ]
          },
          "metadata": {},
          "execution_count": 9
        }
      ]
    },
    {
      "cell_type": "code",
      "source": [
        "import speech_recognition as sr\n",
        "from pydub import AudioSegment\n",
        "\n",
        "# Ruta del archivo de audio (cámbiala por la tuya)\n",
        "audio_path = \"audio/audio.mp3\"\n",
        "\n",
        "\n",
        "audio_wav = \"audio_temp.wav\"\n",
        "AudioSegment.from_file(audio_path).export(audio_wav, format=\"wav\")\n",
        "\n",
        "\n",
        "recognizer = sr.Recognizer()\n",
        "\n",
        "\n",
        "with sr.AudioFile(audio_wav) as source:\n",
        "    print(\"Cargando el audio...\")\n",
        "    audio_data = recognizer.record(source)\n",
        "\n",
        "try:\n",
        "    transcription = recognizer.recognize_google(audio_data, language=\"es-ES\")\n",
        "    print(\"Transcripción:\")\n",
        "    print(transcription)\n",
        "except sr.UnknownValueError:\n",
        "    print(\"No se pudo entender el audio.\")\n",
        "except sr.RequestError as e:\n",
        "    print(f\"Error del servicio de reconocimiento: {e}\")\n"
      ],
      "metadata": {
        "colab": {
          "base_uri": "https://localhost:8080/"
        },
        "id": "hyEYfAl3PXgh",
        "outputId": "4aa22b37-e930-4aa7-c779-3ea59bc16f89"
      },
      "execution_count": null,
      "outputs": [
        {
          "output_type": "stream",
          "name": "stdout",
          "text": [
            "Cargando el audio...\n",
            "Transcripción:\n",
            "lo del Cali que tenemos que poner tenemos que crear el o sea en principio está entrenando simplemente ese sería el primer paso vale luego Verás que el el meta exploit tiene una dirección IP por ejemplo lo lanzas y también Mira ese disco verás que no que no formaran parte de la misma red Vale entonces qué tengo que hacer me voy a montar una redna de acuerdo o no con el control sí podríamos montarlo y que jueguen en esta línea por qué porque verás que luego el meta explote va a aparecer puede parecerte con cuando seleccionas los dos tipos de red de acuerdo es que lo habíamos hecho en la que tienes configurada los dos tienen que formar parte de la misma conciencia que no te sale tampoco pasará nada Pero al menos que tengas la idea Clara de que este y este dónde jugaría vale las herramientas pues es reutilizar mis compis y vienen de formar parte de la misma manera erp y en este caso pondríamos local Y a partir de aquí lo podríamos utilizarlo Qué tal cómo han ido las vacaciones\n"
          ]
        }
      ]
    }
  ]
}